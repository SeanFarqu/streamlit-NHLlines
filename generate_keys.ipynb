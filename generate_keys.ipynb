{
 "cells": [
  {
   "cell_type": "code",
   "execution_count": 9,
   "id": "a3fc7e5f",
   "metadata": {},
   "outputs": [],
   "source": [
    "import pickle\n",
    "from pathlib import Path\n",
    "import streamlit_authenticator as stauth\n",
    "\n",
    "names = [\"Sean Farquharson\", \"Michael Perelman\"]\n",
    "usernames = [\"sfarg\", \"mperelman\"]\n",
    "passwords = [\"dashboard1\", \"dashboard2\"]\n",
    "\n",
    "hashed_passwords = stauth.Hasher(passwords).generate()\n",
    "\n",
    "file_path = Path(\"/Users/SFarquharson/Documents/Blues_project\") / \"hashed_pw.pkl\"\n",
    "with file_path.open(\"wb\") as file:\n",
    "    pickle.dump(hashed_passwords, file)"
   ]
  },
  {
   "cell_type": "code",
   "execution_count": null,
   "id": "fda049b7",
   "metadata": {},
   "outputs": [],
   "source": []
  }
 ],
 "metadata": {
  "kernelspec": {
   "display_name": "Python 3 (ipykernel)",
   "language": "python",
   "name": "python3"
  },
  "language_info": {
   "codemirror_mode": {
    "name": "ipython",
    "version": 3
   },
   "file_extension": ".py",
   "mimetype": "text/x-python",
   "name": "python",
   "nbconvert_exporter": "python",
   "pygments_lexer": "ipython3",
   "version": "3.9.12"
  }
 },
 "nbformat": 4,
 "nbformat_minor": 5
}
